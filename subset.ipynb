{
 "cells": [
  {
   "cell_type": "code",
   "execution_count": 43,
   "metadata": {},
   "outputs": [
    {
     "data": {
      "text/plain": [
       "[[],\n",
       " [1],\n",
       " [2],\n",
       " [1, 2],\n",
       " [3],\n",
       " [1, 3],\n",
       " [2, 3],\n",
       " [1, 2, 3],\n",
       " [5],\n",
       " [1, 5],\n",
       " [2, 5],\n",
       " [1, 2, 5],\n",
       " [3, 5],\n",
       " [1, 3, 5],\n",
       " [2, 3, 5],\n",
       " [1, 2, 3, 5],\n",
       " [7],\n",
       " [1, 7],\n",
       " [2, 7],\n",
       " [1, 2, 7],\n",
       " [3, 7],\n",
       " [1, 3, 7],\n",
       " [2, 3, 7],\n",
       " [1, 2, 3, 7],\n",
       " [5, 7],\n",
       " [1, 5, 7],\n",
       " [2, 5, 7],\n",
       " [1, 2, 5, 7],\n",
       " [3, 5, 7],\n",
       " [1, 3, 5, 7],\n",
       " [2, 3, 5, 7],\n",
       " [1, 2, 3, 5, 7]]"
      ]
     },
     "execution_count": 43,
     "metadata": {},
     "output_type": "execute_result"
    }
   ],
   "source": [
    "def subset():\n",
    "    nums = [1,5,5,2,7,5,3]\n",
    "    res=[[]]\n",
    "    nums.sort()\n",
    "    last = nums[0]+1\n",
    "    for i in range(len(nums)):\n",
    "        if nums[i]!=last:\n",
    "            for j in res[:]: \n",
    "                res.append(j+[nums[i]])\n",
    "                last = nums[i]\n",
    "    return res\n",
    "subset()"
   ]
  },
  {
   "cell_type": "code",
   "execution_count": 58,
   "metadata": {},
   "outputs": [],
   "source": [
    "class Solution:\n",
    "    def subsets(self, nums):\n",
    "        if len(nums) == 0:\n",
    "            return []\n",
    "        nums.sort()\n",
    "        res = []\n",
    "        self.helper(res, nums, 0, [])\n",
    "        return res \n",
    "    \n",
    "    def helper(self, res, nums, index, ss):\n",
    "        res.append(ss[:])\n",
    "        for i in range(index, len(nums)):\n",
    "            if (nums[i]==nums[i-1]):\n",
    "                continue\n",
    "\n",
    "            ss.append(nums[i])\n",
    "            self.helper(res,nums,i+1,ss)\n",
    "            ss.pop()"
   ]
  },
  {
   "cell_type": "code",
   "execution_count": 59,
   "metadata": {},
   "outputs": [
    {
     "data": {
      "text/plain": [
       "[[],\n",
       " [1],\n",
       " [1, 2],\n",
       " [1, 2, 3],\n",
       " [1, 2, 3, 5],\n",
       " [1, 2, 3, 5, 7],\n",
       " [1, 2, 3, 7],\n",
       " [1, 2, 5],\n",
       " [1, 2, 5, 7],\n",
       " [1, 2, 7],\n",
       " [1, 3],\n",
       " [1, 3, 5],\n",
       " [1, 3, 5, 7],\n",
       " [1, 3, 7],\n",
       " [1, 5],\n",
       " [1, 5, 7],\n",
       " [1, 7],\n",
       " [2],\n",
       " [2, 3],\n",
       " [2, 3, 5],\n",
       " [2, 3, 5, 7],\n",
       " [2, 3, 7],\n",
       " [2, 5],\n",
       " [2, 5, 7],\n",
       " [2, 7],\n",
       " [3],\n",
       " [3, 5],\n",
       " [3, 5, 7],\n",
       " [3, 7],\n",
       " [5],\n",
       " [5, 7],\n",
       " [7]]"
      ]
     },
     "execution_count": 59,
     "metadata": {},
     "output_type": "execute_result"
    }
   ],
   "source": [
    "nums = [1,5,5,2,7,5,3]\n",
    "rr = Solution()\n",
    "rr.subsets(nums)"
   ]
  },
  {
   "cell_type": "code",
   "execution_count": null,
   "metadata": {},
   "outputs": [],
   "source": []
  },
  {
   "cell_type": "code",
   "execution_count": null,
   "metadata": {},
   "outputs": [],
   "source": []
  }
 ],
 "metadata": {
  "kernelspec": {
   "display_name": "Python 3",
   "language": "python",
   "name": "python3"
  },
  "language_info": {
   "codemirror_mode": {
    "name": "ipython",
    "version": 3
   },
   "file_extension": ".py",
   "mimetype": "text/x-python",
   "name": "python",
   "nbconvert_exporter": "python",
   "pygments_lexer": "ipython3",
   "version": "3.7.1"
  }
 },
 "nbformat": 4,
 "nbformat_minor": 2
}
